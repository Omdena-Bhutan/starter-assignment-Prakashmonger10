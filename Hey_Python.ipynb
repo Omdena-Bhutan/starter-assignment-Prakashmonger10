{
  "nbformat": 4,
  "nbformat_minor": 0,
  "metadata": {
    "colab": {
      "provenance": [],
      "authorship_tag": "ABX9TyOELiA8DjubZCk7h5R0l81c",
      "include_colab_link": true
    },
    "kernelspec": {
      "name": "python3",
      "display_name": "Python 3"
    },
    "language_info": {
      "name": "python"
    }
  },
  "cells": [
    {
      "cell_type": "markdown",
      "metadata": {
        "id": "view-in-github",
        "colab_type": "text"
      },
      "source": [
        "<a href=\"https://colab.research.google.com/github/Omdena-Bhutan/starter-assignment-Prakashmonger10/blob/main/Hey_Python.ipynb\" target=\"_parent\"><img src=\"https://colab.research.google.com/assets/colab-badge.svg\" alt=\"Open In Colab\"/></a>"
      ]
    },
    {
      "cell_type": "code",
      "execution_count": 3,
      "metadata": {
        "id": "WznBkNZ51n8C"
      },
      "outputs": [],
      "source": [
        "x=5"
      ]
    },
    {
      "cell_type": "code",
      "source": [
        "y='hellow Python'"
      ],
      "metadata": {
        "id": "Vcl0Av8wE7TU"
      },
      "execution_count": 4,
      "outputs": []
    },
    {
      "cell_type": "markdown",
      "source": [],
      "metadata": {
        "id": "xQP_wo3XHqP4"
      }
    },
    {
      "cell_type": "code",
      "source": [],
      "metadata": {
        "id": "rmNqcOaWHrCy"
      },
      "execution_count": null,
      "outputs": []
    }
  ]
}